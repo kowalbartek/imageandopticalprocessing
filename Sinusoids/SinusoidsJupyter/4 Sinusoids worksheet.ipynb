{
 "cells": [
  {
   "cell_type": "code",
   "execution_count": null,
   "id": "initial_id",
   "metadata": {
    "collapsed": true
   },
   "outputs": [],
   "source": [
    "from math import atan2\n",
    "from numpy import exp, pi, imag, real\n",
    "import matplotlib\n",
    "import matplotlib.pyplot as plt\n",
    "\n",
    "from quickfunctions import quick_close\n",
    "from plotsinusoid import plot_sinusoid\n",
    "\n",
    "matplotlib.rcParams.update({'font.size': 13})\n",
    "matplotlib.rcParams.update({'savefig.dpi': 300})\n",
    "matplotlib.rcParams['figure.figsize'] = [12, 8]\n",
    "matplotlib.rcParams['figure.dpi'] = 150\n",
    "%matplotlib notebook\n",
    "%matplotlib widget"
   ]
  },
  {
   "cell_type": "code",
   "execution_count": null,
   "outputs": [],
   "source": [
    "\"\"\"\n",
    "\n",
    "We've looked at Fourier transforms of pairs of impulses, and the Fourier\n",
    "transform of a single impulse at the origin, but what is the Fourier transform\n",
    "of a single off-centre impulse?\n",
    "\n",
    "\"\"\"\n",
    "\n",
    "# Single off-centre impulses also generate sinusoids.\n",
    "# Will have non-zero real and imaginary parts in its FT.\n",
    "quick_close()\n",
    "plot_sinusoid(2, 0.5, (1., 0.), figs='a')\n",
    "\n",
    "# This is a single sinusoid, that has both real and imaginary components in\n",
    "# oscillation -- can you suggest any examples from the real-world of something\n",
    "# that requires multiple orthogonal descriptions to characterise completely?\n",
    "# How about the trajectory of a ball in a sports game... will one camera angle\n",
    "# always be sufficient to record faithfully the path of the ball?\n",
    "\n",
    "# This sinusoid with equal real/imaginary components has an interesting\n",
    "# property: its values over time/space trace a perfect circle in the complex\n",
    "# plane. We can get an intuitive understanding of this by tracing each of the\n",
    "# real and imaginary components separately in the complex plane.\n",
    "\n",
    "# This explains why the amplitude and phase values are as they are (constant\n",
    "# amplitude and linear phase) in the above example.\n",
    "# [See in-class demo of the values from a complex-valued sinusoid being used to\n",
    "# trace a circle in the complex plane.]\n",
    "\n",
    "# Now lets compare this to a single impulse an equal distance on the other\n",
    "# side of the origin.\n",
    "plot_sinusoid(2, 0.5, (0., 1.), figs='f')\n",
    "# You can see that their imaginary values would cancel out, leaving only a\n",
    "# real-valued sinusoid.\n",
    "# Equivalently, we can view what happens as the phase values largely cancel\n",
    "# out, leaving only two possibilities, 0 and pi (0 where the real values are\n",
    "# positive and pi where the real values are negative).\n",
    "# The real values do not cancel, and are added together.\n",
    "# [This concept would scale up to any arbitrary signal/image composed of pairs\n",
    "# of similar pixels equidistant from the origin (e.g. an image that is\n",
    "# invariant to reflection through the origin).]\n",
    "\n",
    "# This is the result of the imaginary components cancelling out:\n",
    "plot_sinusoid(2, 0.5, (1., 1.), figs='f')\n",
    "\n",
    "# Here's another example, first the two impulses separately, and then with\n",
    "# real & imag plots of the impulses combined.\n",
    "quick_close()\n",
    "plot_sinusoid(2, 0.5, (1j, 0.), figs='ri')\n",
    "plot_sinusoid(2, 0.5, (0., -1j), figs='ri')\n",
    "plot_sinusoid(2, 1, (1j, -1j), figs='ri')\n",
    "\n",
    "# Here's the same example, first the two impulses separately, and then with\n",
    "# amplitude & phase plots of the impulses combined.\n",
    "quick_close()\n",
    "plot_sinusoid(2, 0.5, (1j, 0.), figs='mp')\n",
    "plot_sinusoid(2, 0.5, (0., -1j), figs='mp')\n",
    "plot_sinusoid(2, 1, (1j, -1j), figs='mp')"
   ],
   "metadata": {
    "collapsed": false
   },
   "id": "55d6563cfe576edb"
  },
  {
   "cell_type": "code",
   "execution_count": null,
   "outputs": [],
   "source": [
    "\"\"\"\n",
    "\n",
    "We saw in one of the first lectures what effect pixel position and pixel\n",
    "amplitude has on its FT. Now let's understand what effect the phase value of a\n",
    "pixel has: it changes the phase (shift) of the sinusoid.\n",
    "(FYI, function 'plot_sinusoid()' was written to reset the amplitude to A=1\n",
    "each time, independent of impulse value, so only the phase of the impulses\n",
    "below affects the output.)\n",
    "We can estimate the following impulse phase values by plotting the impulse\n",
    "value on the complex plane and estimating visually the phase angle. In the\n",
    "examples below, the phase angle is calculated for you using the usual arctan\n",
    "trigonometric rule.\n",
    "\n",
    "\"\"\"\n",
    "\n",
    "\n",
    "def change_phase_example(d, r_or_i):\n",
    "    \"\"\"Example showing change of phase of pixel in Fourier domain.\n",
    "    \"\"\"\n",
    "    for index, a in enumerate(d):\n",
    "        plot_sinusoid(2, 1, (a, 0.), figs=r_or_i)\n",
    "        if index == 0:\n",
    "            tstr = ('Starting phase of sinusoid (showing the ' +\n",
    "                    str(r_or_i) + ' part only)')\n",
    "        else:\n",
    "            tstr = ('Phase shift of ' +\n",
    "                    str(atan2(imag(a), real(a)) / pi) + 'pi = ' +\n",
    "                    str(int(atan2(imag(a), real(a)) / (2 * pi) * 360)) + ' deg.')\n",
    "        plt.title(tstr)\n",
    "\n",
    "\n",
    "quick_close()\n",
    "# d = (1., 0.8+0.4j, 0.7+0.7j, 1j, -1.0)\n",
    "d = (1., 0.7 + 0.7j, 1j, -1.0)\n",
    "change_phase_example(d, 'r')"
   ],
   "metadata": {
    "collapsed": false
   },
   "id": "59950fcdc81ea858"
  },
  {
   "cell_type": "code",
   "execution_count": null,
   "outputs": [],
   "source": [
    "\"\"\"\n",
    "In each of the above examples, we plotted the real part only. If we change the\n",
    "final argument from 'r' to 'i' we will see that there is an identical behaviour\n",
    "on the imaginary sinusoid\n",
    "\"\"\"\n",
    "quick_close()\n",
    "change_phase_example(d, 'i')"
   ],
   "metadata": {
    "collapsed": false
   },
   "id": "bca91c1cfe7334f4"
  },
  {
   "cell_type": "code",
   "execution_count": null,
   "outputs": [],
   "source": [
    "\"\"\"\n",
    "Let's repeat the phase shifting behaviour by specifying an explicit phase for\n",
    "the impulse value (rather than having to figure out what real and imaginary\n",
    "value is required):\n",
    "\"\"\"\n",
    "quick_close()\n",
    "d = (abs(1) * exp(1j * 0),\n",
    "     # abs(1) * exp(1j * pi / 8),\n",
    "     abs(1) * exp(1j * pi / 4),\n",
    "     abs(1) * exp(1j * pi / 2),\n",
    "     abs(1) * exp(1j * pi))\n",
    "change_phase_example(d, 'r')"
   ],
   "metadata": {
    "collapsed": false
   },
   "id": "d9f8ca2f77d0698"
  }
 ],
 "metadata": {
  "kernelspec": {
   "display_name": "Python 3",
   "language": "python",
   "name": "python3"
  },
  "language_info": {
   "codemirror_mode": {
    "name": "ipython",
    "version": 2
   },
   "file_extension": ".py",
   "mimetype": "text/x-python",
   "name": "python",
   "nbconvert_exporter": "python",
   "pygments_lexer": "ipython2",
   "version": "2.7.6"
  }
 },
 "nbformat": 4,
 "nbformat_minor": 5
}
