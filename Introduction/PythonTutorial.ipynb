{
 "cells": [
  {
   "cell_type": "code",
   "execution_count": 11,
   "metadata": {
    "scrolled": false,
    "ExecuteTime": {
     "end_time": "2024-01-05T15:39:23.374117900Z",
     "start_time": "2024-01-05T15:39:23.327723500Z"
    }
   },
   "outputs": [],
   "source": [
    "\"\"\"Python tutorial to illustrate pointwise multiplication, pointwise\n",
    "addition, shifting, convolution, and slicing of NumPy arrays.\n",
    "\n",
    "Written to accompany lectures for a module called:\n",
    "CS356 Image and optical processing\n",
    "Thomas J. Naughton, Maynooth University Department of Computer Science\n",
    "Created: tjn, CS, MU, 15 X 2014\n",
    "Last updated: tjn, CS, MU, 4 XI 2020\n",
    "\n",
    "How to run\n",
    "----------\n",
    "\n",
    "This file is not meant to be run in its entirety. There are intentional\n",
    "run-time errors for example, showing the \"out of bounds\" behaviour of\n",
    "NumPy indexing. Instead, each line is intended to be run separately, or where\n",
    "an assignment statement stretches over multiple lines, it is intended\n",
    "that you would run all of these lines together.\n",
    "\"\"\"\n",
    "\n",
    "# This line below is required to be run initially\n",
    "from numpy import array, arange, roll, convolve"
   ]
  },
  {
   "cell_type": "code",
   "execution_count": 12,
   "metadata": {
    "scrolled": false,
    "ExecuteTime": {
     "end_time": "2024-01-05T15:39:24.877669700Z",
     "start_time": "2024-01-05T15:39:24.850566400Z"
    }
   },
   "outputs": [
    {
     "name": "stdout",
     "output_type": "stream",
     "text": [
      "[1 2 1 2 1 3 5 6 7 1 3]\n",
      "[0 0 0 0 0 0 5 6 7 0 0]\n",
      "[0 0 1 2 1 0 0 0 0 0 0]\n"
     ]
    }
   ],
   "source": [
    "# The = operator means assignment\n",
    "f = array([1, 2, 1, 2, 1, 3, 5, 6, 7, 1, 3])\n",
    "h = array([0, 0, 0, 0, 0, 0, 1, 1, 1, 0, 0])\n",
    "hr = h[::-1]  # Reverse the list\n",
    "print(f)\n",
    "print(f*h)\n",
    "print(f*hr)"
   ]
  },
  {
   "cell_type": "code",
   "execution_count": 13,
   "metadata": {
    "ExecuteTime": {
     "end_time": "2024-01-05T15:39:25.712936600Z",
     "start_time": "2024-01-05T15:39:25.670921800Z"
    }
   },
   "outputs": [
    {
     "name": "stdout",
     "output_type": "stream",
     "text": [
      "[1 2 3 5 6 7 7 8 9]\n",
      "[1 2 3 3 4 5 7 8 9]\n"
     ]
    }
   ],
   "source": [
    "f = array([1, 2, 3, 4, 5, 6, 7, 8, 9])\n",
    "g = array([0, 0, 0, 1, 1, 1, 0, 0, 0])\n",
    "f\n",
    "g\n",
    "print(f+g)\n",
    "print(f-g)"
   ]
  },
  {
   "cell_type": "code",
   "execution_count": 14,
   "metadata": {
    "ExecuteTime": {
     "end_time": "2024-01-05T15:39:26.551559900Z",
     "start_time": "2024-01-05T15:39:26.537643700Z"
    }
   },
   "outputs": [
    {
     "name": "stdout",
     "output_type": "stream",
     "text": [
      "[0 1 2 3 4 5]\n",
      "[5 0 1 2 3 4]\n",
      "[3 4 5 0 1 2]\n"
     ]
    }
   ],
   "source": [
    "h = arange(6)\n",
    "print(h)\n",
    "print(roll(h, 1))\n",
    "print(roll(h, -3))"
   ]
  },
  {
   "cell_type": "code",
   "execution_count": 15,
   "metadata": {
    "ExecuteTime": {
     "end_time": "2024-01-05T15:39:27.269029800Z",
     "start_time": "2024-01-05T15:39:27.255581500Z"
    }
   },
   "outputs": [
    {
     "name": "stdout",
     "output_type": "stream",
     "text": [
      "[0 1 2 3 0]\n"
     ]
    }
   ],
   "source": [
    "# Looking at the graphical examples of \"convolution\" in Wikipedia will\n",
    "# be sufficient to understand this concept.\n",
    "print(convolve([1, 2, 3], [0, 1, 0]))"
   ]
  },
  {
   "cell_type": "code",
   "execution_count": 16,
   "metadata": {
    "ExecuteTime": {
     "end_time": "2024-01-05T15:39:27.847292200Z",
     "start_time": "2024-01-05T15:39:27.833524300Z"
    }
   },
   "outputs": [
    {
     "name": "stdout",
     "output_type": "stream",
     "text": [
      "[ 6 14 25 22 13 14 11  5]\n"
     ]
    }
   ],
   "source": [
    "print(convolve([3, 4, 7, 2, 1, 5], [2, 2, 1]))"
   ]
  },
  {
   "cell_type": "code",
   "execution_count": 17,
   "metadata": {
    "ExecuteTime": {
     "end_time": "2024-01-05T15:39:28.754648700Z",
     "start_time": "2024-01-05T15:39:28.743444900Z"
    }
   },
   "outputs": [
    {
     "name": "stdout",
     "output_type": "stream",
     "text": [
      "[0 0 0 0 1 2 1 0 2 4 2 0 1 2 1 0 0 0 0]\n"
     ]
    }
   ],
   "source": [
    "print(convolve([0, 0, 1, 1, 0, 0, 1, 1, 0, 0], [0, 0, 1, 1, 0, 0, 1, 1, 0, 0]))"
   ]
  },
  {
   "cell_type": "code",
   "execution_count": 18,
   "metadata": {
    "ExecuteTime": {
     "end_time": "2024-01-05T15:39:29.455838600Z",
     "start_time": "2024-01-05T15:39:29.414422100Z"
    }
   },
   "outputs": [
    {
     "name": "stdout",
     "output_type": "stream",
     "text": [
      "[0 0 0 0 1 0 2 0 1 0 0 0 0]\n"
     ]
    }
   ],
   "source": [
    "# This is a classic convolution example. You should make sure to\n",
    "# understand this input-output pair.\n",
    "k = array([0, 0, 1, 0, 1, 0, 0])\n",
    "print(convolve(k, k))"
   ]
  },
  {
   "cell_type": "code",
   "execution_count": 19,
   "metadata": {
    "ExecuteTime": {
     "end_time": "2024-01-05T15:39:30.147270300Z",
     "start_time": "2024-01-05T15:39:30.133588600Z"
    }
   },
   "outputs": [
    {
     "name": "stdout",
     "output_type": "stream",
     "text": [
      "[10 20 30 40 50]\n",
      "First element: 10\n",
      "Third element: 30\n",
      "Length: 5\n"
     ]
    }
   ],
   "source": [
    "# An important technique for manipulating arrays follows: slicing.\n",
    "# First, basic indexing of an array\n",
    "a = array([10, 20, 30, 40, 50])\n",
    "print(a)\n",
    "print('First element:', a[0])  # First element\n",
    "print('Third element:', a[2])\n",
    "print('Length:', len(a))"
   ]
  },
  {
   "cell_type": "code",
   "execution_count": 20,
   "metadata": {
    "ExecuteTime": {
     "end_time": "2024-01-05T15:39:31.265036200Z",
     "start_time": "2024-01-05T15:39:31.178436Z"
    }
   },
   "outputs": [
    {
     "ename": "IndexError",
     "evalue": "index 5 is out of bounds for axis 0 with size 5",
     "output_type": "error",
     "traceback": [
      "\u001B[1;31m---------------------------------------------------------------------------\u001B[0m",
      "\u001B[1;31mIndexError\u001B[0m                                Traceback (most recent call last)",
      "Cell \u001B[1;32mIn[20], line 1\u001B[0m\n\u001B[1;32m----> 1\u001B[0m \u001B[38;5;28mprint\u001B[39m(\u001B[43ma\u001B[49m\u001B[43m[\u001B[49m\u001B[38;5;28;43mlen\u001B[39;49m\u001B[43m(\u001B[49m\u001B[43ma\u001B[49m\u001B[43m)\u001B[49m\u001B[43m]\u001B[49m)  \u001B[38;5;66;03m# Out of bounds error because a list of length 5 only has valid indices 0..4\u001B[39;00m\n",
      "\u001B[1;31mIndexError\u001B[0m: index 5 is out of bounds for axis 0 with size 5"
     ]
    }
   ],
   "source": [
    "print(a[len(a)])  # Out of bounds error because a list of length 5 only has valid indices 0..4"
   ]
  },
  {
   "cell_type": "code",
   "execution_count": 21,
   "metadata": {
    "ExecuteTime": {
     "end_time": "2024-01-05T15:39:32.177134500Z",
     "start_time": "2024-01-05T15:39:32.146076800Z"
    }
   },
   "outputs": [
    {
     "name": "stdout",
     "output_type": "stream",
     "text": [
      "50\n",
      "50\n"
     ]
    }
   ],
   "source": [
    "print(a[len(a)-1])  # Last element\n",
    "print(a[-1])  # Shorthand for above (-1 means the last element, -2 means the second last, etc.)"
   ]
  },
  {
   "cell_type": "code",
   "execution_count": 22,
   "metadata": {
    "ExecuteTime": {
     "end_time": "2024-01-05T15:39:35.261510700Z",
     "start_time": "2024-01-05T15:39:35.247213600Z"
    }
   },
   "outputs": [
    {
     "name": "stdout",
     "output_type": "stream",
     "text": [
      "[10 20]\n",
      "[10 20]\n",
      "[30 40 50]\n",
      "[30 40 50]\n"
     ]
    }
   ],
   "source": [
    "# Next, slicing\n",
    "print(a[0:2])  # A slice using two array indices\n",
    "print(a[:2])  # A slice using two array indices\n",
    "print(a[2:len(a)])  # A slice using two array indices\n",
    "print(a[2:])  # Shorthand for above"
   ]
  },
  {
   "cell_type": "code",
   "execution_count": 23,
   "metadata": {
    "ExecuteTime": {
     "end_time": "2024-01-05T15:39:39.629879700Z",
     "start_time": "2024-01-05T15:39:39.594723100Z"
    }
   },
   "outputs": [
    {
     "name": "stdout",
     "output_type": "stream",
     "text": [
      "[30 40]\n",
      "[30 40]\n",
      "[30]\n",
      "[30]\n",
      "[30]\n",
      "[30]\n"
     ]
    }
   ],
   "source": [
    "print(a[2:len(a)-1])  # A slice using two array indices\n",
    "print(a[2:-1])  # Shorthand for above\n",
    "\n",
    "print(a[2:len(a)-2])  # A slice using two array indices\n",
    "print(a[2:-2])  # Shorthand for above\n",
    "\n",
    "print((a[1:-1])[1:-1])  # A slice of a slice\n",
    "print(a[1:-1][1:-1])  # We can drop the parentheses"
   ]
  },
  {
   "cell_type": "code",
   "execution_count": 24,
   "metadata": {
    "ExecuteTime": {
     "end_time": "2024-01-05T15:39:42.077348700Z",
     "start_time": "2024-01-05T15:39:41.974857800Z"
    }
   },
   "outputs": [
    {
     "name": "stdout",
     "output_type": "stream",
     "text": [
      "[10 20 30 40 50]\n",
      "[10 20 30 40 50]\n",
      "[10 20 30 40 50]\n",
      "[10 20 30 40 50]\n",
      "[10 20 30 40 50]\n"
     ]
    }
   ],
   "source": [
    "# Each of these is equivalent\n",
    "print(a)\n",
    "print(a[0:len(a)])\n",
    "print(a[0:])\n",
    "print(a[:len(a)])\n",
    "print(a[:])"
   ]
  },
  {
   "cell_type": "code",
   "execution_count": 25,
   "metadata": {
    "ExecuteTime": {
     "end_time": "2024-01-05T15:39:42.891076400Z",
     "start_time": "2024-01-05T15:39:42.887664900Z"
    }
   },
   "outputs": [
    {
     "name": "stdout",
     "output_type": "stream",
     "text": [
      "[10 20 30 40 50]\n",
      "[10 30 50]\n",
      "[50 40 30 20 10]\n"
     ]
    }
   ],
   "source": [
    "# A third parameter can be used in a slice definition\n",
    "print(a[::1])  # All elements\n",
    "print(a[::2])  # All elements with even indices\n",
    "print(a[::-1])  # All elements in reverse order"
   ]
  },
  {
   "cell_type": "code",
   "execution_count": 26,
   "metadata": {
    "ExecuteTime": {
     "end_time": "2024-01-05T15:39:43.872659100Z",
     "start_time": "2024-01-05T15:39:43.860584300Z"
    }
   },
   "outputs": [
    {
     "name": "stdout",
     "output_type": "stream",
     "text": [
      "[[1 2 3]\n",
      " [1 2 3]\n",
      " [1 2 3]\n",
      " [4 5 6]] \n",
      "\n",
      "a value: 3 \n",
      "\n",
      "a row: [1 2 3] \n",
      "\n",
      "a column: [1 1 1 4] \n",
      "\n",
      "all but first row:\n",
      " [[1 2 3]\n",
      " [1 2 3]\n",
      " [4 5 6]] \n",
      "\n",
      "all but first column:\n",
      " [[1 2]\n",
      " [1 2]\n",
      " [1 2]\n",
      " [4 5]]\n"
     ]
    }
   ],
   "source": [
    "# Slicing in two dimensions\n",
    "data = array([\n",
    "    [1, 2, 3],\n",
    "    [1, 2, 3],\n",
    "    [1, 2, 3],\n",
    "    [4, 5, 6]])\n",
    "\n",
    "print(data, '\\n')\n",
    "print('a value:', data[1, 2], '\\n')\n",
    "print('a row:', data[0, :], '\\n')  # One particular row\n",
    "print('a column:', data[:, 0], '\\n')  # One particular column\n",
    "print('all but first row:\\n', data[1:, :], '\\n')  # Include all but the first row\n",
    "print('all but first column:\\n', data[:, :-1])  # Include all but the last column"
   ]
  },
  {
   "cell_type": "code",
   "execution_count": 27,
   "metadata": {
    "ExecuteTime": {
     "end_time": "2024-01-05T15:39:46.139053800Z",
     "start_time": "2024-01-05T15:39:46.118182Z"
    }
   },
   "outputs": [
    {
     "name": "stdout",
     "output_type": "stream",
     "text": [
      "[10 20 30 40 50 30]\n",
      "[False False  True False False  True]\n"
     ]
    }
   ],
   "source": [
    "# Indexing a slice based on a condition\n",
    "a = array([10, 20, 30, 40, 50, 30])\n",
    "print(a)\n",
    "# The == operator tests for equality and returns a boolean\n",
    "print(a == 30)"
   ]
  },
  {
   "cell_type": "code",
   "execution_count": 28,
   "metadata": {
    "ExecuteTime": {
     "end_time": "2024-01-05T15:39:47.918848400Z",
     "start_time": "2024-01-05T15:39:47.872535800Z"
    }
   },
   "outputs": [
    {
     "name": "stdout",
     "output_type": "stream",
     "text": [
      "[10 20 99 40 50 99]\n",
      "[False  True False  True False False]\n",
      "[10  0 99  0 50 99]\n"
     ]
    }
   ],
   "source": [
    "# Replace values based on a condition\n",
    "a[a == 30] = 99  # Just an assignment, so nothing returned and nothing to print\n",
    "print(a)\n",
    "print((a % 20) == 0)  # The modulus operator\n",
    "a[(a % 20) == 0] = 0  # Just an assignment, so nothing returned and nothing to print\n",
    "print(a)"
   ]
  },
  {
   "cell_type": "code",
   "execution_count": 29,
   "metadata": {
    "ExecuteTime": {
     "end_time": "2024-01-05T15:39:50.160779700Z",
     "start_time": "2024-01-05T15:39:50.139479700Z"
    }
   },
   "outputs": [
    {
     "name": "stdout",
     "output_type": "stream",
     "text": [
      "[[1 2 3]\n",
      " [1 2 3]\n",
      " [1 2 3]\n",
      " [4 5 6]] \n",
      "\n",
      "[[ 1 99  3]\n",
      " [ 1 99  3]\n",
      " [ 1 99  3]\n",
      " [ 4  5  6]]\n"
     ]
    }
   ],
   "source": [
    "# Let's look at an example of this in two dimensions\n",
    "data = array([\n",
    "    [1, 2, 3],\n",
    "    [1, 2, 3],\n",
    "    [1, 2, 3],\n",
    "    [4, 5, 6]])\n",
    "\n",
    "print(data, '\\n')\n",
    "\n",
    "data[data[:, 2] == 3, 1] = 99\n",
    "print(data)\n",
    "\n",
    "# If you understand the assignment statement above, then you have\n",
    "# successfully completed the tutorial. If not, please investigate its\n",
    "# behaviour by changing the values in that line of code until you do."
   ]
  },
  {
   "cell_type": "code",
   "execution_count": null,
   "metadata": {
    "ExecuteTime": {
     "start_time": "2024-01-05T15:34:36.843764400Z"
    }
   },
   "outputs": [],
   "source": []
  }
 ],
 "metadata": {
  "kernelspec": {
   "display_name": "Python 3",
   "language": "python",
   "name": "python3"
  },
  "language_info": {
   "codemirror_mode": {
    "name": "ipython",
    "version": 3
   },
   "file_extension": ".py",
   "mimetype": "text/x-python",
   "name": "python",
   "nbconvert_exporter": "python",
   "pygments_lexer": "ipython3",
   "version": "3.7.3"
  }
 },
 "nbformat": 4,
 "nbformat_minor": 4
}
